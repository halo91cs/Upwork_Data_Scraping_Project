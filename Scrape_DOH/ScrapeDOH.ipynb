{
 "cells": [
  {
   "cell_type": "code",
   "execution_count": 19,
   "metadata": {},
   "outputs": [],
   "source": [
    "from selenium import webdriver\n",
    "from bs4 import BeautifulSoup\n",
    "import pandas as pd\n",
    "import re\n",
    "import requests\n",
    "import time"
   ]
  },
  {
   "cell_type": "code",
   "execution_count": 20,
   "metadata": {},
   "outputs": [],
   "source": [
    "chrome_options = webdriver.ChromeOptions()\n",
    "chrome_options.add_argument('--no-sandbox')\n",
    "chrome = webdriver.Chrome(\"/usr/lib/chromium-browser/chromedriver\", options=chrome_options)"
   ]
  },
  {
   "cell_type": "code",
   "execution_count": 21,
   "metadata": {},
   "outputs": [],
   "source": [
    "## Get target website as following ##\n",
    "## We first connect Florida Department of Health website ##\n",
    "chrome.get(\"https://appsmqa.doh.state.fl.us/MQASearchServices/HealthCareProviders\")"
   ]
  },
  {
   "cell_type": "code",
   "execution_count": 22,
   "metadata": {},
   "outputs": [],
   "source": [
    "def getPractitioners(board, profession, licenseStatus):\n",
    "    ## Select Board Option as Board of Osteopathic Medicine ##\n",
    "    chrome.find_element_by_xpath(\"//select[@name='SearchDto.Board']/option[text()='\"+board+\"']\").click()\n",
    "    \n",
    "    time.sleep(1)\n",
    "    \n",
    "    ## Select Profession as Osteopathic Physician ##\n",
    "    chrome.find_element_by_xpath(\"//select[@name='SearchDto.Profession']/option[text()='\"+profession+\"']\").click()\n",
    "    \n",
    "    time.sleep(1)\n",
    "    \n",
    "    ## Select only Active/Clear doctors ##\n",
    "    chrome.find_element_by_xpath(\"//select[@name='SearchDto.LicenseStatus']/option[@value='\"+licenseStatus+\"']\").click()\n",
    "    \n",
    "    time.sleep(1)\n",
    "    \n",
    "    ## Click on Search button ## \n",
    "    chrome.find_element_by_xpath(\"//input[@value='Search']\").click()\n",
    "    \n",
    "    urlList = []\n",
    "    while(True):\n",
    "        ## Finds all the links from the source ##\n",
    "        content = chrome.page_source\n",
    "        soup = BeautifulSoup(content)\n",
    "        links = soup.find_all('a',href=True)\n",
    "        for i in links:\n",
    "            ## When navigate to one practitioner's profile, we see the following link common for each practitioner profile page\n",
    "            link = \"https://appsmqa.doh.state.fl.us/MQASearchServices/HealthCareProviders/LicenseVerification/Details?\"\n",
    "            if \"LicInd\" in i.get(\"href\"):\n",
    "                #print(i.get(\"href\").split(\"?\")[1])\n",
    "                result = (i.get(\"href\").split(\"?\")[1]).index('&org')\n",
    "                licind = ((i.get(\"href\").split(\"?\")[1])[:result])\n",
    "                link += licind\n",
    "                urlList.append(link)\n",
    "        try:\n",
    "            chrome.find_element_by_link_text(\"»\").click()  \n",
    "        except:\n",
    "            break\n",
    "    return urlList"
   ]
  },
  {
   "cell_type": "code",
   "execution_count": null,
   "metadata": {},
   "outputs": [],
   "source": [
    "## Get Practitioners' Profile Links for the following profession and values ##"
   ]
  },
  {
   "cell_type": "code",
   "execution_count": 23,
   "metadata": {},
   "outputs": [],
   "source": [
    "urlList_1 = getPractitioners(\"BOARD OF OSTEOPATHIC MEDICINE\", \"Osteopathic Physician\", \"ACT\")"
   ]
  },
  {
   "cell_type": "code",
   "execution_count": 32,
   "metadata": {},
   "outputs": [],
   "source": [
    "export_boom = pd.read_csv('Export_doh_boom.csv')"
   ]
  },
  {
   "cell_type": "code",
   "execution_count": 34,
   "metadata": {},
   "outputs": [],
   "source": [
    "export_boom['Practitioner_profile'] = urlList_1"
   ]
  },
  {
   "cell_type": "code",
   "execution_count": null,
   "metadata": {},
   "outputs": [],
   "source": [
    "## Get Practitioners' Profile Links for the following profession and values ##"
   ]
  },
  {
   "cell_type": "code",
   "execution_count": null,
   "metadata": {},
   "outputs": [],
   "source": [
    "urlList_2 = getPractitioners(\"BOARD OF MEDICINE\", \"Medical Doctor\", \"ACT\")"
   ]
  },
  {
   "cell_type": "code",
   "execution_count": 36,
   "metadata": {},
   "outputs": [],
   "source": [
    "export_bom = pd.read_csv('Export_doh_bom.csv')"
   ]
  },
  {
   "cell_type": "code",
   "execution_count": null,
   "metadata": {},
   "outputs": [],
   "source": [
    "export_bom['Practitioner_profile'] = urlList_2"
   ]
  }
 ],
 "metadata": {
  "kernelspec": {
   "display_name": "Python 3",
   "language": "python",
   "name": "python3"
  },
  "language_info": {
   "codemirror_mode": {
    "name": "ipython",
    "version": 3
   },
   "file_extension": ".py",
   "mimetype": "text/x-python",
   "name": "python",
   "nbconvert_exporter": "python",
   "pygments_lexer": "ipython3",
   "version": "3.7.4"
  }
 },
 "nbformat": 4,
 "nbformat_minor": 2
}
